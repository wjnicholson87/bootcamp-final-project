{
 "cells": [
  {
   "cell_type": "code",
   "execution_count": 4,
   "id": "1b671908",
   "metadata": {},
   "outputs": [
    {
     "ename": "ModuleNotFoundError",
     "evalue": "No module named 'config'",
     "output_type": "error",
     "traceback": [
      "\u001b[1;31m---------------------------------------------------------------------------\u001b[0m",
      "\u001b[1;31mModuleNotFoundError\u001b[0m                       Traceback (most recent call last)",
      "\u001b[1;32m~\\AppData\\Local\\Temp\\ipykernel_21244\\2636853442.py\u001b[0m in \u001b[0;36m<module>\u001b[1;34m\u001b[0m\n\u001b[0;32m      2\u001b[0m \u001b[1;32mimport\u001b[0m \u001b[0mpandas\u001b[0m \u001b[1;32mas\u001b[0m \u001b[0mpd\u001b[0m\u001b[1;33m\u001b[0m\u001b[1;33m\u001b[0m\u001b[0m\n\u001b[0;32m      3\u001b[0m \u001b[1;33m\u001b[0m\u001b[0m\n\u001b[1;32m----> 4\u001b[1;33m \u001b[1;32mfrom\u001b[0m \u001b[0mconfig\u001b[0m \u001b[1;32mimport\u001b[0m \u001b[0mkey\u001b[0m\u001b[1;33m\u001b[0m\u001b[1;33m\u001b[0m\u001b[0m\n\u001b[0m",
      "\u001b[1;31mModuleNotFoundError\u001b[0m: No module named 'config'"
     ]
    }
   ],
   "source": [
    "import pysmashgg\n",
    "import pandas as pd\n",
    "\n",
    "from config import key"
   ]
  },
  {
   "cell_type": "code",
   "execution_count": 2,
   "id": "bda1077e",
   "metadata": {},
   "outputs": [],
   "source": [
    "key = key\n",
    "smash = pysmashgg.SmashGG(key, True)"
   ]
  },
  {
   "cell_type": "code",
   "execution_count": 3,
   "id": "bd2ee16c",
   "metadata": {},
   "outputs": [
    {
     "name": "stdout",
     "output_type": "stream",
     "text": [
      "Error 400: Bad request (probably means your key is wrong)\n"
     ]
    },
    {
     "ename": "TypeError",
     "evalue": "'NoneType' object is not subscriptable",
     "output_type": "error",
     "traceback": [
      "\u001b[1;31m---------------------------------------------------------------------------\u001b[0m",
      "\u001b[1;31mTypeError\u001b[0m                                 Traceback (most recent call last)",
      "\u001b[1;32m~\\AppData\\Local\\Temp\\ipykernel_21244\\1745230279.py\u001b[0m in \u001b[0;36m<module>\u001b[1;34m\u001b[0m\n\u001b[0;32m      1\u001b[0m \u001b[0mking2022\u001b[0m \u001b[1;33m=\u001b[0m \u001b[1;34m'king-2022-1'\u001b[0m\u001b[1;33m\u001b[0m\u001b[1;33m\u001b[0m\u001b[0m\n\u001b[1;32m----> 2\u001b[1;33m \u001b[0mtournament\u001b[0m \u001b[1;33m=\u001b[0m \u001b[0msmash\u001b[0m\u001b[1;33m.\u001b[0m\u001b[0mtournament_show\u001b[0m\u001b[1;33m(\u001b[0m\u001b[1;34m'king-2022-1'\u001b[0m\u001b[1;33m)\u001b[0m\u001b[1;33m\u001b[0m\u001b[1;33m\u001b[0m\u001b[0m\n\u001b[0m\u001b[0;32m      3\u001b[0m \u001b[0mprint\u001b[0m\u001b[1;33m(\u001b[0m\u001b[0mtournament\u001b[0m\u001b[1;33m)\u001b[0m\u001b[1;33m\u001b[0m\u001b[1;33m\u001b[0m\u001b[0m\n",
      "\u001b[1;32m~\\anaconda3\\envs\\mlenv\\lib\\site-packages\\pysmashgg\\smashgg.py\u001b[0m in \u001b[0;36mtournament_show\u001b[1;34m(self, tournament_name)\u001b[0m\n\u001b[0;32m     31\u001b[0m     \u001b[1;31m# Metadata for a tournament\u001b[0m\u001b[1;33m\u001b[0m\u001b[1;33m\u001b[0m\u001b[1;33m\u001b[0m\u001b[0m\n\u001b[0;32m     32\u001b[0m     \u001b[1;32mdef\u001b[0m \u001b[0mtournament_show\u001b[0m\u001b[1;33m(\u001b[0m\u001b[0mself\u001b[0m\u001b[1;33m,\u001b[0m \u001b[0mtournament_name\u001b[0m\u001b[1;33m)\u001b[0m\u001b[1;33m:\u001b[0m\u001b[1;33m\u001b[0m\u001b[1;33m\u001b[0m\u001b[0m\n\u001b[1;32m---> 33\u001b[1;33m         \u001b[1;32mreturn\u001b[0m \u001b[0mtournaments\u001b[0m\u001b[1;33m.\u001b[0m\u001b[0mshow\u001b[0m\u001b[1;33m(\u001b[0m\u001b[0mtournament_name\u001b[0m\u001b[1;33m,\u001b[0m \u001b[0mself\u001b[0m\u001b[1;33m.\u001b[0m\u001b[0mheader\u001b[0m\u001b[1;33m,\u001b[0m \u001b[0mself\u001b[0m\u001b[1;33m.\u001b[0m\u001b[0mauto_retry\u001b[0m\u001b[1;33m)\u001b[0m\u001b[1;33m\u001b[0m\u001b[1;33m\u001b[0m\u001b[0m\n\u001b[0m\u001b[0;32m     34\u001b[0m \u001b[1;33m\u001b[0m\u001b[0m\n\u001b[0;32m     35\u001b[0m     \u001b[1;31m# Metadata for a tournament with a bracket\u001b[0m\u001b[1;33m\u001b[0m\u001b[1;33m\u001b[0m\u001b[1;33m\u001b[0m\u001b[0m\n",
      "\u001b[1;32m~\\anaconda3\\envs\\mlenv\\lib\\site-packages\\pysmashgg\\tournaments.py\u001b[0m in \u001b[0;36mshow\u001b[1;34m(tournament_name, header, auto_retry)\u001b[0m\n\u001b[0;32m     32\u001b[0m     \u001b[0mvariables\u001b[0m \u001b[1;33m=\u001b[0m \u001b[1;33m{\u001b[0m\u001b[1;34m\"tourneySlug\"\u001b[0m\u001b[1;33m:\u001b[0m \u001b[0mtournament_name\u001b[0m\u001b[1;33m}\u001b[0m\u001b[1;33m\u001b[0m\u001b[1;33m\u001b[0m\u001b[0m\n\u001b[0;32m     33\u001b[0m     \u001b[0mresponse\u001b[0m \u001b[1;33m=\u001b[0m \u001b[0mrun_query\u001b[0m\u001b[1;33m(\u001b[0m\u001b[0mSHOW_QUERY\u001b[0m\u001b[1;33m,\u001b[0m \u001b[0mvariables\u001b[0m\u001b[1;33m,\u001b[0m \u001b[0mheader\u001b[0m\u001b[1;33m,\u001b[0m \u001b[0mauto_retry\u001b[0m\u001b[1;33m)\u001b[0m\u001b[1;33m\u001b[0m\u001b[1;33m\u001b[0m\u001b[0m\n\u001b[1;32m---> 34\u001b[1;33m     \u001b[0mdata\u001b[0m \u001b[1;33m=\u001b[0m \u001b[0mfilters\u001b[0m\u001b[1;33m.\u001b[0m\u001b[0mshow_filter\u001b[0m\u001b[1;33m(\u001b[0m\u001b[0mresponse\u001b[0m\u001b[1;33m)\u001b[0m\u001b[1;33m\u001b[0m\u001b[1;33m\u001b[0m\u001b[0m\n\u001b[0m\u001b[0;32m     35\u001b[0m     \u001b[1;32mreturn\u001b[0m \u001b[0mdata\u001b[0m\u001b[1;33m\u001b[0m\u001b[1;33m\u001b[0m\u001b[0m\n\u001b[0;32m     36\u001b[0m \u001b[1;33m\u001b[0m\u001b[0m\n",
      "\u001b[1;32m~\\anaconda3\\envs\\mlenv\\lib\\site-packages\\pysmashgg\\filters.py\u001b[0m in \u001b[0;36mshow_filter\u001b[1;34m(response)\u001b[0m\n\u001b[0;32m     27\u001b[0m \u001b[1;31m# Filtering for the show function\u001b[0m\u001b[1;33m\u001b[0m\u001b[1;33m\u001b[0m\u001b[1;33m\u001b[0m\u001b[0m\n\u001b[0;32m     28\u001b[0m \u001b[1;32mdef\u001b[0m \u001b[0mshow_filter\u001b[0m\u001b[1;33m(\u001b[0m\u001b[0mresponse\u001b[0m\u001b[1;33m)\u001b[0m\u001b[1;33m:\u001b[0m\u001b[1;33m\u001b[0m\u001b[1;33m\u001b[0m\u001b[0m\n\u001b[1;32m---> 29\u001b[1;33m     \u001b[1;32mif\u001b[0m \u001b[0mresponse\u001b[0m\u001b[1;33m[\u001b[0m\u001b[1;34m'data'\u001b[0m\u001b[1;33m]\u001b[0m\u001b[1;33m[\u001b[0m\u001b[1;34m'tournament'\u001b[0m\u001b[1;33m]\u001b[0m \u001b[1;32mis\u001b[0m \u001b[1;32mNone\u001b[0m\u001b[1;33m:\u001b[0m\u001b[1;33m\u001b[0m\u001b[1;33m\u001b[0m\u001b[0m\n\u001b[0m\u001b[0;32m     30\u001b[0m         \u001b[1;32mreturn\u001b[0m\u001b[1;33m\u001b[0m\u001b[1;33m\u001b[0m\u001b[0m\n\u001b[0;32m     31\u001b[0m \u001b[1;33m\u001b[0m\u001b[0m\n",
      "\u001b[1;31mTypeError\u001b[0m: 'NoneType' object is not subscriptable"
     ]
    }
   ],
   "source": [
    "king2022 = 'king-2022-1'\n",
    "tournament = smash.tournament_show('king-2022-1')\n",
    "print(tournament)"
   ]
  },
  {
   "cell_type": "code",
   "execution_count": null,
   "id": "cb11b634",
   "metadata": {},
   "outputs": [],
   "source": [
    "for i in range(1,11):\n",
    "    sets = smash.tournament_show_sets(king2022, 'ultimate-singles', i)\n",
    "    print(sets)"
   ]
  },
  {
   "cell_type": "code",
   "execution_count": null,
   "id": "2ce32363",
   "metadata": {},
   "outputs": [],
   "source": [
    "king2022_sets_df = pd.DataFrame(data=sets, columns=sets[0].keys())\n",
    "king2022_sets_df"
   ]
  },
  {
   "cell_type": "code",
   "execution_count": null,
   "id": "1b299edc",
   "metadata": {},
   "outputs": [],
   "source": [
    "king2022_sets_df.drop(columns=['entrant1Players', 'entrant2Players'], inplace=True)\n",
    "king2022_sets_df"
   ]
  },
  {
   "cell_type": "code",
   "execution_count": null,
   "id": "9611718b",
   "metadata": {},
   "outputs": [],
   "source": [
    "#First arg is player id\n",
    "#Second arg is videogame_id, Smash Ultimate's is 1386\n",
    "luke_tournaments = smash.player_show_tournaments(11152, 1)\n",
    "print(luke_tournaments)"
   ]
  },
  {
   "cell_type": "code",
   "execution_count": null,
   "id": "4345b69b",
   "metadata": {},
   "outputs": [],
   "source": [
    "sets=[]\n",
    "\n",
    "for i in range(0,10):\n",
    "    sets.append(smash.tournament_show_sets(king2022, 'ultimate-singles', (i+1)))"
   ]
  },
  {
   "cell_type": "code",
   "execution_count": null,
   "id": "7579dfe9",
   "metadata": {},
   "outputs": [],
   "source": [
    "sets"
   ]
  },
  {
   "cell_type": "code",
   "execution_count": null,
   "id": "3a24b6df",
   "metadata": {},
   "outputs": [],
   "source": [
    "pool1_df = pd.DataFrame(data=sets[0])\n",
    "pool1_df.head(20)"
   ]
  },
  {
   "cell_type": "code",
   "execution_count": null,
   "id": "5ef0e1ea",
   "metadata": {},
   "outputs": [],
   "source": [
    "pool1_players_df = pool1_df.filter(['entrant1Name', 'entrant2Name', 'winnerName', 'loserName'])\n",
    "pool1_players_df"
   ]
  },
  {
   "cell_type": "code",
   "execution_count": null,
   "id": "1d55a003",
   "metadata": {},
   "outputs": [],
   "source": [
    "pool1_unique_entrants = smash.tournament_show_entrants(king2022, 'ultimate-singles', 1)\n",
    "pool1_unique_entrants"
   ]
  },
  {
   "cell_type": "code",
   "execution_count": null,
   "id": "182ceb14",
   "metadata": {},
   "outputs": [],
   "source": [
    "pool1_entrants_df = pd.DataFrame(pool1_unique_entrants)\n",
    "pool1_entrants_df"
   ]
  },
  {
   "cell_type": "code",
   "execution_count": null,
   "id": "7ddab3f2",
   "metadata": {},
   "outputs": [],
   "source": [
    "pool1_tags = pool1_entrants_df['tag']\n",
    "pool1_tags"
   ]
  },
  {
   "cell_type": "code",
   "execution_count": null,
   "id": "0fcf2dfe",
   "metadata": {},
   "outputs": [],
   "source": []
  }
 ],
 "metadata": {
  "kernelspec": {
   "display_name": "mlenv",
   "language": "python",
   "name": "mlenv"
  },
  "language_info": {
   "codemirror_mode": {
    "name": "ipython",
    "version": 3
   },
   "file_extension": ".py",
   "mimetype": "text/x-python",
   "name": "python",
   "nbconvert_exporter": "python",
   "pygments_lexer": "ipython3",
   "version": "3.7.13"
  }
 },
 "nbformat": 4,
 "nbformat_minor": 5
}
